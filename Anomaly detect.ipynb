{
 "cells": [
  {
   "cell_type": "markdown",
   "id": "c301e74c-496f-4a7c-af5d-68d94a7d91e3",
   "metadata": {},
   "source": [
    "# ANOMALY DETECTION"
   ]
  },
  {
   "cell_type": "code",
   "execution_count": 4,
   "id": "d7b1569e-f977-4141-a2ad-697d10f4ffe2",
   "metadata": {},
   "outputs": [],
   "source": [
    "import pandas as pd\n",
    "from sklearn.preprocessing import StandardScaler"
   ]
  },
  {
   "cell_type": "code",
   "execution_count": 2,
   "id": "61db0985-1ded-4b2f-91ba-241a9020a420",
   "metadata": {},
   "outputs": [],
   "source": [
    "df= pd.read_csv(\"D:\\\\DATA SCIENCE ARJUN\\\\DS project\\\\sensor_data.csv\")"
   ]
  },
  {
   "cell_type": "code",
   "execution_count": 3,
   "id": "79805735-50da-47b7-89c7-504c890737ec",
   "metadata": {},
   "outputs": [
    {
     "data": {
      "text/html": [
       "<div>\n",
       "<style scoped>\n",
       "    .dataframe tbody tr th:only-of-type {\n",
       "        vertical-align: middle;\n",
       "    }\n",
       "\n",
       "    .dataframe tbody tr th {\n",
       "        vertical-align: top;\n",
       "    }\n",
       "\n",
       "    .dataframe thead th {\n",
       "        text-align: right;\n",
       "    }\n",
       "</style>\n",
       "<table border=\"1\" class=\"dataframe\">\n",
       "  <thead>\n",
       "    <tr style=\"text-align: right;\">\n",
       "      <th></th>\n",
       "      <th>Timestamp</th>\n",
       "      <th>Boiler Name</th>\n",
       "      <th>Temperature</th>\n",
       "      <th>Anomaly</th>\n",
       "    </tr>\n",
       "  </thead>\n",
       "  <tbody>\n",
       "    <tr>\n",
       "      <th>0</th>\n",
       "      <td>2023-01-23 00:58:20</td>\n",
       "      <td>Boiler A</td>\n",
       "      <td>20.180428</td>\n",
       "      <td>0</td>\n",
       "    </tr>\n",
       "    <tr>\n",
       "      <th>1</th>\n",
       "      <td>2023-01-30 06:30:08</td>\n",
       "      <td>Boiler A</td>\n",
       "      <td>23.372948</td>\n",
       "      <td>0</td>\n",
       "    </tr>\n",
       "    <tr>\n",
       "      <th>2</th>\n",
       "      <td>2023-01-03 10:47:23</td>\n",
       "      <td>Boiler A</td>\n",
       "      <td>29.858208</td>\n",
       "      <td>0</td>\n",
       "    </tr>\n",
       "    <tr>\n",
       "      <th>3</th>\n",
       "      <td>2023-01-03 17:10:50</td>\n",
       "      <td>Boiler C</td>\n",
       "      <td>20.564032</td>\n",
       "      <td>0</td>\n",
       "    </tr>\n",
       "    <tr>\n",
       "      <th>4</th>\n",
       "      <td>2023-01-04 17:50:22</td>\n",
       "      <td>Boiler D</td>\n",
       "      <td>23.547024</td>\n",
       "      <td>0</td>\n",
       "    </tr>\n",
       "    <tr>\n",
       "      <th>...</th>\n",
       "      <td>...</td>\n",
       "      <td>...</td>\n",
       "      <td>...</td>\n",
       "      <td>...</td>\n",
       "    </tr>\n",
       "    <tr>\n",
       "      <th>995</th>\n",
       "      <td>2023-01-11 23:39:44</td>\n",
       "      <td>Boiler A</td>\n",
       "      <td>27.596447</td>\n",
       "      <td>0</td>\n",
       "    </tr>\n",
       "    <tr>\n",
       "      <th>996</th>\n",
       "      <td>2023-01-25 01:22:21</td>\n",
       "      <td>Boiler B</td>\n",
       "      <td>19.189359</td>\n",
       "      <td>0</td>\n",
       "    </tr>\n",
       "    <tr>\n",
       "      <th>997</th>\n",
       "      <td>2023-01-02 03:47:51</td>\n",
       "      <td>Boiler A</td>\n",
       "      <td>17.157156</td>\n",
       "      <td>0</td>\n",
       "    </tr>\n",
       "    <tr>\n",
       "      <th>998</th>\n",
       "      <td>2023-01-07 09:21:22</td>\n",
       "      <td>Boiler B</td>\n",
       "      <td>23.135241</td>\n",
       "      <td>0</td>\n",
       "    </tr>\n",
       "    <tr>\n",
       "      <th>999</th>\n",
       "      <td>2023-01-01 07:37:21</td>\n",
       "      <td>Boiler D</td>\n",
       "      <td>19.398653</td>\n",
       "      <td>0</td>\n",
       "    </tr>\n",
       "  </tbody>\n",
       "</table>\n",
       "<p>1000 rows × 4 columns</p>\n",
       "</div>"
      ],
      "text/plain": [
       "               Timestamp Boiler Name  Temperature  Anomaly\n",
       "0    2023-01-23 00:58:20    Boiler A    20.180428        0\n",
       "1    2023-01-30 06:30:08    Boiler A    23.372948        0\n",
       "2    2023-01-03 10:47:23    Boiler A    29.858208        0\n",
       "3    2023-01-03 17:10:50    Boiler C    20.564032        0\n",
       "4    2023-01-04 17:50:22    Boiler D    23.547024        0\n",
       "..                   ...         ...          ...      ...\n",
       "995  2023-01-11 23:39:44    Boiler A    27.596447        0\n",
       "996  2023-01-25 01:22:21    Boiler B    19.189359        0\n",
       "997  2023-01-02 03:47:51    Boiler A    17.157156        0\n",
       "998  2023-01-07 09:21:22    Boiler B    23.135241        0\n",
       "999  2023-01-01 07:37:21    Boiler D    19.398653        0\n",
       "\n",
       "[1000 rows x 4 columns]"
      ]
     },
     "execution_count": 3,
     "metadata": {},
     "output_type": "execute_result"
    }
   ],
   "source": [
    "df"
   ]
  },
  {
   "cell_type": "markdown",
   "id": "6b7f1687-ea37-4193-ad4b-599e8741d6cb",
   "metadata": {},
   "source": [
    "# FEATURE SELECTION"
   ]
  },
  {
   "cell_type": "code",
   "execution_count": 5,
   "id": "cd1d3d80-e1b3-413b-8684-3db2f5ca2df5",
   "metadata": {},
   "outputs": [],
   "source": [
    "selected_features = ['Boiler Name', 'Temperature', 'Anomaly']\n",
    "df = df[selected_features]"
   ]
  },
  {
   "cell_type": "code",
   "execution_count": 8,
   "id": "45ca8644-7ea6-4894-ba84-13c2cac79187",
   "metadata": {},
   "outputs": [
    {
     "data": {
      "text/html": [
       "<div>\n",
       "<style scoped>\n",
       "    .dataframe tbody tr th:only-of-type {\n",
       "        vertical-align: middle;\n",
       "    }\n",
       "\n",
       "    .dataframe tbody tr th {\n",
       "        vertical-align: top;\n",
       "    }\n",
       "\n",
       "    .dataframe thead th {\n",
       "        text-align: right;\n",
       "    }\n",
       "</style>\n",
       "<table border=\"1\" class=\"dataframe\">\n",
       "  <thead>\n",
       "    <tr style=\"text-align: right;\">\n",
       "      <th></th>\n",
       "      <th>Boiler Name</th>\n",
       "      <th>Temperature</th>\n",
       "      <th>Anomaly</th>\n",
       "    </tr>\n",
       "  </thead>\n",
       "  <tbody>\n",
       "    <tr>\n",
       "      <th>0</th>\n",
       "      <td>Boiler A</td>\n",
       "      <td>20.180428</td>\n",
       "      <td>0</td>\n",
       "    </tr>\n",
       "    <tr>\n",
       "      <th>1</th>\n",
       "      <td>Boiler A</td>\n",
       "      <td>23.372948</td>\n",
       "      <td>0</td>\n",
       "    </tr>\n",
       "    <tr>\n",
       "      <th>2</th>\n",
       "      <td>Boiler A</td>\n",
       "      <td>29.858208</td>\n",
       "      <td>0</td>\n",
       "    </tr>\n",
       "    <tr>\n",
       "      <th>3</th>\n",
       "      <td>Boiler C</td>\n",
       "      <td>20.564032</td>\n",
       "      <td>0</td>\n",
       "    </tr>\n",
       "    <tr>\n",
       "      <th>4</th>\n",
       "      <td>Boiler D</td>\n",
       "      <td>23.547024</td>\n",
       "      <td>0</td>\n",
       "    </tr>\n",
       "    <tr>\n",
       "      <th>...</th>\n",
       "      <td>...</td>\n",
       "      <td>...</td>\n",
       "      <td>...</td>\n",
       "    </tr>\n",
       "    <tr>\n",
       "      <th>995</th>\n",
       "      <td>Boiler A</td>\n",
       "      <td>27.596447</td>\n",
       "      <td>0</td>\n",
       "    </tr>\n",
       "    <tr>\n",
       "      <th>996</th>\n",
       "      <td>Boiler B</td>\n",
       "      <td>19.189359</td>\n",
       "      <td>0</td>\n",
       "    </tr>\n",
       "    <tr>\n",
       "      <th>997</th>\n",
       "      <td>Boiler A</td>\n",
       "      <td>17.157156</td>\n",
       "      <td>0</td>\n",
       "    </tr>\n",
       "    <tr>\n",
       "      <th>998</th>\n",
       "      <td>Boiler B</td>\n",
       "      <td>23.135241</td>\n",
       "      <td>0</td>\n",
       "    </tr>\n",
       "    <tr>\n",
       "      <th>999</th>\n",
       "      <td>Boiler D</td>\n",
       "      <td>19.398653</td>\n",
       "      <td>0</td>\n",
       "    </tr>\n",
       "  </tbody>\n",
       "</table>\n",
       "<p>1000 rows × 3 columns</p>\n",
       "</div>"
      ],
      "text/plain": [
       "    Boiler Name  Temperature  Anomaly\n",
       "0      Boiler A    20.180428        0\n",
       "1      Boiler A    23.372948        0\n",
       "2      Boiler A    29.858208        0\n",
       "3      Boiler C    20.564032        0\n",
       "4      Boiler D    23.547024        0\n",
       "..          ...          ...      ...\n",
       "995    Boiler A    27.596447        0\n",
       "996    Boiler B    19.189359        0\n",
       "997    Boiler A    17.157156        0\n",
       "998    Boiler B    23.135241        0\n",
       "999    Boiler D    19.398653        0\n",
       "\n",
       "[1000 rows x 3 columns]"
      ]
     },
     "execution_count": 8,
     "metadata": {},
     "output_type": "execute_result"
    }
   ],
   "source": [
    "df"
   ]
  },
  {
   "cell_type": "code",
   "execution_count": 29,
   "id": "6ced8b0e-4c74-4b3e-8745-dbef9557c72b",
   "metadata": {},
   "outputs": [],
   "source": [
    "df = pd.get_dummies(df, columns=['Boiler Name'])"
   ]
  },
  {
   "cell_type": "code",
   "execution_count": 30,
   "id": "b37b62e8-510d-4a33-9c2e-1bb0525369f1",
   "metadata": {},
   "outputs": [
    {
     "data": {
      "text/html": [
       "<div>\n",
       "<style scoped>\n",
       "    .dataframe tbody tr th:only-of-type {\n",
       "        vertical-align: middle;\n",
       "    }\n",
       "\n",
       "    .dataframe tbody tr th {\n",
       "        vertical-align: top;\n",
       "    }\n",
       "\n",
       "    .dataframe thead th {\n",
       "        text-align: right;\n",
       "    }\n",
       "</style>\n",
       "<table border=\"1\" class=\"dataframe\">\n",
       "  <thead>\n",
       "    <tr style=\"text-align: right;\">\n",
       "      <th></th>\n",
       "      <th>Temperature</th>\n",
       "      <th>Anomaly</th>\n",
       "      <th>Boiler Name_Boiler A</th>\n",
       "      <th>Boiler Name_Boiler B</th>\n",
       "      <th>Boiler Name_Boiler C</th>\n",
       "      <th>Boiler Name_Boiler D</th>\n",
       "    </tr>\n",
       "  </thead>\n",
       "  <tbody>\n",
       "    <tr>\n",
       "      <th>0</th>\n",
       "      <td>20.180428</td>\n",
       "      <td>0</td>\n",
       "      <td>True</td>\n",
       "      <td>False</td>\n",
       "      <td>False</td>\n",
       "      <td>False</td>\n",
       "    </tr>\n",
       "    <tr>\n",
       "      <th>1</th>\n",
       "      <td>23.372948</td>\n",
       "      <td>0</td>\n",
       "      <td>True</td>\n",
       "      <td>False</td>\n",
       "      <td>False</td>\n",
       "      <td>False</td>\n",
       "    </tr>\n",
       "    <tr>\n",
       "      <th>2</th>\n",
       "      <td>29.858208</td>\n",
       "      <td>0</td>\n",
       "      <td>True</td>\n",
       "      <td>False</td>\n",
       "      <td>False</td>\n",
       "      <td>False</td>\n",
       "    </tr>\n",
       "    <tr>\n",
       "      <th>3</th>\n",
       "      <td>20.564032</td>\n",
       "      <td>0</td>\n",
       "      <td>False</td>\n",
       "      <td>False</td>\n",
       "      <td>True</td>\n",
       "      <td>False</td>\n",
       "    </tr>\n",
       "    <tr>\n",
       "      <th>4</th>\n",
       "      <td>23.547024</td>\n",
       "      <td>0</td>\n",
       "      <td>False</td>\n",
       "      <td>False</td>\n",
       "      <td>False</td>\n",
       "      <td>True</td>\n",
       "    </tr>\n",
       "    <tr>\n",
       "      <th>...</th>\n",
       "      <td>...</td>\n",
       "      <td>...</td>\n",
       "      <td>...</td>\n",
       "      <td>...</td>\n",
       "      <td>...</td>\n",
       "      <td>...</td>\n",
       "    </tr>\n",
       "    <tr>\n",
       "      <th>995</th>\n",
       "      <td>27.596447</td>\n",
       "      <td>0</td>\n",
       "      <td>True</td>\n",
       "      <td>False</td>\n",
       "      <td>False</td>\n",
       "      <td>False</td>\n",
       "    </tr>\n",
       "    <tr>\n",
       "      <th>996</th>\n",
       "      <td>19.189359</td>\n",
       "      <td>0</td>\n",
       "      <td>False</td>\n",
       "      <td>True</td>\n",
       "      <td>False</td>\n",
       "      <td>False</td>\n",
       "    </tr>\n",
       "    <tr>\n",
       "      <th>997</th>\n",
       "      <td>17.157156</td>\n",
       "      <td>0</td>\n",
       "      <td>True</td>\n",
       "      <td>False</td>\n",
       "      <td>False</td>\n",
       "      <td>False</td>\n",
       "    </tr>\n",
       "    <tr>\n",
       "      <th>998</th>\n",
       "      <td>23.135241</td>\n",
       "      <td>0</td>\n",
       "      <td>False</td>\n",
       "      <td>True</td>\n",
       "      <td>False</td>\n",
       "      <td>False</td>\n",
       "    </tr>\n",
       "    <tr>\n",
       "      <th>999</th>\n",
       "      <td>19.398653</td>\n",
       "      <td>0</td>\n",
       "      <td>False</td>\n",
       "      <td>False</td>\n",
       "      <td>False</td>\n",
       "      <td>True</td>\n",
       "    </tr>\n",
       "  </tbody>\n",
       "</table>\n",
       "<p>1000 rows × 6 columns</p>\n",
       "</div>"
      ],
      "text/plain": [
       "     Temperature  Anomaly  Boiler Name_Boiler A  Boiler Name_Boiler B  \\\n",
       "0      20.180428        0                  True                 False   \n",
       "1      23.372948        0                  True                 False   \n",
       "2      29.858208        0                  True                 False   \n",
       "3      20.564032        0                 False                 False   \n",
       "4      23.547024        0                 False                 False   \n",
       "..           ...      ...                   ...                   ...   \n",
       "995    27.596447        0                  True                 False   \n",
       "996    19.189359        0                 False                  True   \n",
       "997    17.157156        0                  True                 False   \n",
       "998    23.135241        0                 False                  True   \n",
       "999    19.398653        0                 False                 False   \n",
       "\n",
       "     Boiler Name_Boiler C  Boiler Name_Boiler D  \n",
       "0                   False                 False  \n",
       "1                   False                 False  \n",
       "2                   False                 False  \n",
       "3                    True                 False  \n",
       "4                   False                  True  \n",
       "..                    ...                   ...  \n",
       "995                 False                 False  \n",
       "996                 False                 False  \n",
       "997                 False                 False  \n",
       "998                 False                 False  \n",
       "999                 False                  True  \n",
       "\n",
       "[1000 rows x 6 columns]"
      ]
     },
     "execution_count": 30,
     "metadata": {},
     "output_type": "execute_result"
    }
   ],
   "source": [
    "df"
   ]
  },
  {
   "cell_type": "code",
   "execution_count": 31,
   "id": "23403010-7ea7-4c29-8c86-cd01bb53c3c0",
   "metadata": {},
   "outputs": [],
   "source": [
    "from sklearn.preprocessing import StandardScaler\n",
    "\n",
    "scaler = StandardScaler()\n",
    "data_scaled = scaler.fit_transform(df)"
   ]
  },
  {
   "cell_type": "code",
   "execution_count": 38,
   "id": "4c311f69-97c2-48f8-8623-4eb61247e040",
   "metadata": {},
   "outputs": [
    {
     "data": {
      "text/plain": [
       "array([[-0.68450522, -0.15681251,  1.81434437, -0.531085  , -0.6298    ,\n",
       "        -0.59737099],\n",
       "       [-0.29530289, -0.15681251,  1.81434437, -0.531085  , -0.6298    ,\n",
       "        -0.59737099],\n",
       "       [ 0.49531967, -0.15681251,  1.81434437, -0.531085  , -0.6298    ,\n",
       "        -0.59737099],\n",
       "       ...,\n",
       "       [-1.05307441, -0.15681251,  1.81434437, -0.531085  , -0.6298    ,\n",
       "        -0.59737099],\n",
       "       [-0.32428195, -0.15681251, -0.55116328,  1.88293774, -0.6298    ,\n",
       "        -0.59737099],\n",
       "       [-0.77981194, -0.15681251, -0.55116328, -0.531085  , -0.6298    ,\n",
       "         1.6740016 ]])"
      ]
     },
     "execution_count": 38,
     "metadata": {},
     "output_type": "execute_result"
    }
   ],
   "source": [
    "data_scaled"
   ]
  },
  {
   "cell_type": "markdown",
   "id": "756a9c60-7455-4ca8-93fc-38035f6afafe",
   "metadata": {},
   "source": [
    "#  Anomaly Detection Model:"
   ]
  },
  {
   "cell_type": "code",
   "execution_count": 32,
   "id": "65cd3999-3031-4fb5-91b9-273775bdcb24",
   "metadata": {},
   "outputs": [],
   "source": [
    "from sklearn.ensemble import IsolationForest\n",
    "\n",
    "# Train the Isolation Forest model\n",
    "model = IsolationForest(contamination=0.05)  # Adjust contamination based on your data\n",
    "model.fit(data_scaled)\n",
    "\n",
    "# Predict anomalies\n",
    "predictions = model.predict(data_scaled)\n"
   ]
  },
  {
   "cell_type": "code",
   "execution_count": 41,
   "id": "f48e14d7-d444-45d5-ad34-20c27cdff47e",
   "metadata": {},
   "outputs": [
    {
     "name": "stdout",
     "output_type": "stream",
     "text": [
      "[1 1 1 1 1 1]\n"
     ]
    }
   ],
   "source": [
    "print(predictions)"
   ]
  },
  {
   "cell_type": "markdown",
   "id": "d80cea6d-d39a-4df8-87fa-fca40139ec7c",
   "metadata": {},
   "source": [
    "# Model Evaluation:"
   ]
  },
  {
   "cell_type": "code",
   "execution_count": 48,
   "id": "4b695901-8077-4c05-b6ec-f705623d9e9d",
   "metadata": {},
   "outputs": [
    {
     "name": "stdout",
     "output_type": "stream",
     "text": [
      "Precision: 0.5\n",
      "Recall: 1.0\n"
     ]
    }
   ],
   "source": [
    "from sklearn.metrics import precision_score, recall_score\n",
    "\n",
    "# Ground truth labels (assuming you have labeled anomalies in your dataset)\n",
    "ground_truth = [1, 0, 0, 1, 1, 0]  # 1 for anomaly, 0 for normal\n",
    "\n",
    "# Ensure that ground_truth and predictions have the same length\n",
    "# Here, we are assuming that you have 7 samples, and predictions is a NumPy array.\n",
    "predictions = predictions[:6]  # Adjust as needed based on your dataset\n",
    "\n",
    "# Calculate precision and recall\n",
    "precision = precision_score(ground_truth, predictions)\n",
    "recall = recall_score(ground_truth, predictions)\n",
    "\n",
    "print(f'Precision: {precision}')\n",
    "print(f'Recall: {recall}')\n"
   ]
  },
  {
   "cell_type": "markdown",
   "id": "8143663c-74d7-4a0d-b480-6fbdba33a5b3",
   "metadata": {},
   "source": [
    "# Visualization & Reporting"
   ]
  },
  {
   "cell_type": "code",
   "execution_count": 49,
   "id": "d7b0568e-7d5d-4f0c-b672-da567921143f",
   "metadata": {},
   "outputs": [
    {
     "data": {
      "image/png": "[encoded data removed]",
      "text/plain": [
       "<Figure size 640x480 with 2 Axes>"
      ]
     },
     "metadata": {},
     "output_type": "display_data"
    }
   ],
   "source": [
    "import matplotlib.pyplot as plt\n",
    "import seaborn as sns\n",
    "from sklearn.metrics import confusion_matrix\n",
    "\n",
    "# Generate a confusion matrix\n",
    "cm = confusion_matrix(ground_truth, predictions)\n",
    "\n",
    "# Plot the confusion matrix\n",
    "sns.heatmap(cm, annot=True, fmt=\"d\")\n",
    "plt.xlabel(\"Predicted\")\n",
    "plt.ylabel(\"True\")\n",
    "plt.show()\n"
   ]
  },
  {
   "cell_type": "code",
   "execution_count": null,
   "id": "ba24d02a-51ba-4716-b535-3c46a194a4b0",
   "metadata": {},
   "outputs": [],
   "source": []
  }
 ],
 "metadata": {
  "kernelspec": {
   "display_name": "Python 3 (ipykernel)",
   "language": "python",
   "name": "python3"
  },
  "language_info": {
   "codemirror_mode": {
    "name": "ipython",
    "version": 3
   },
   "file_extension": ".py",
   "mimetype": "text/x-python",
   "name": "python",
   "nbconvert_exporter": "python",
   "pygments_lexer": "ipython3",
   "version": "3.11.4"
  }
 },
 "nbformat": 4,
 "nbformat_minor": 5
}
